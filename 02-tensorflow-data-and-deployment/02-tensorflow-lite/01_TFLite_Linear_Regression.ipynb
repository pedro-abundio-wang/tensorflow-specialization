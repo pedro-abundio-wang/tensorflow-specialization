{
 "cells": [
  {
   "cell_type": "code",
   "execution_count": 0,
   "metadata": {
    "colab": {},
    "colab_type": "code",
    "id": "zX4Kg8DUTKWO"
   },
   "outputs": [],
   "source": [
    "#@title Licensed under the Apache License, Version 2.0 (the \"License\");\n",
    "# you may not use this file except in compliance with the License.\n",
    "# You may obtain a copy of the License at\n",
    "#\n",
    "# https://www.apache.org/licenses/LICENSE-2.0\n",
    "#\n",
    "# Unless required by applicable law or agreed to in writing, software\n",
    "# distributed under the License is distributed on an \"AS IS\" BASIS,\n",
    "# WITHOUT WARRANTIES OR CONDITIONS OF ANY KIND, either express or implied.\n",
    "# See the License for the specific language governing permissions and\n",
    "# limitations under the License."
   ]
  },
  {
   "cell_type": "markdown",
   "metadata": {
    "colab_type": "text",
    "id": "UysiGN3tGQHY"
   },
   "source": [
    "# Running TFLite models"
   ]
  },
  {
   "cell_type": "markdown",
   "metadata": {
    "colab_type": "text",
    "id": "W-VhTkyTGcaQ"
   },
   "source": [
    "## Setup"
   ]
  },
  {
   "cell_type": "code",
   "execution_count": 1,
   "metadata": {
    "colab": {},
    "colab_type": "code",
    "id": "dy4BcTjBFTWx"
   },
   "outputs": [
    {
     "name": "stdout",
     "output_type": "stream",
     "text": [
      "• Using TensorFlow Version: 2.0.0\n"
     ]
    }
   ],
   "source": [
    "import pathlib\n",
    "import numpy as np\n",
    "import matplotlib.pyplot as plt\n",
    "\n",
    "import tensorflow as tf\n",
    "\n",
    "print('\\u2022 Using TensorFlow Version:', tf.__version__)"
   ]
  },
  {
   "cell_type": "markdown",
   "metadata": {
    "colab_type": "text",
    "id": "ceibQLDeGhI4"
   },
   "source": [
    "## Create a Basic Model"
   ]
  },
  {
   "cell_type": "code",
   "execution_count": 2,
   "metadata": {
    "colab": {},
    "colab_type": "code",
    "id": "YIBCsjQNF46Z"
   },
   "outputs": [
    {
     "name": "stdout",
     "output_type": "stream",
     "text": [
      "Train on 6 samples\n",
      "Epoch 1/200\n",
      "6/6 [==============================] - 0s 71ms/sample - loss: 8.3360\n",
      "Epoch 2/200\n",
      "6/6 [==============================] - 0s 1ms/sample - loss: 6.7582\n",
      "Epoch 3/200\n",
      "6/6 [==============================] - 0s 2ms/sample - loss: 5.5127\n",
      "Epoch 4/200\n",
      "6/6 [==============================] - 0s 1ms/sample - loss: 4.5288\n",
      "Epoch 5/200\n",
      "6/6 [==============================] - 0s 1ms/sample - loss: 3.7508\n",
      "Epoch 6/200\n",
      "6/6 [==============================] - 0s 1ms/sample - loss: 3.1349\n",
      "Epoch 7/200\n",
      "6/6 [==============================] - 0s 2ms/sample - loss: 2.6465\n",
      "Epoch 8/200\n",
      "6/6 [==============================] - 0s 1ms/sample - loss: 2.2586\n",
      "Epoch 9/200\n",
      "6/6 [==============================] - 0s 1ms/sample - loss: 1.9497\n",
      "Epoch 10/200\n",
      "6/6 [==============================] - 0s 1ms/sample - loss: 1.7032\n",
      "Epoch 11/200\n",
      "6/6 [==============================] - 0s 2ms/sample - loss: 1.5058\n",
      "Epoch 12/200\n",
      "6/6 [==============================] - 0s 1ms/sample - loss: 1.3470\n",
      "Epoch 13/200\n",
      "6/6 [==============================] - 0s 1ms/sample - loss: 1.2188\n",
      "Epoch 14/200\n",
      "6/6 [==============================] - 0s 1ms/sample - loss: 1.1147\n",
      "Epoch 15/200\n",
      "6/6 [==============================] - 0s 1ms/sample - loss: 1.0295\n",
      "Epoch 16/200\n",
      "6/6 [==============================] - 0s 2ms/sample - loss: 0.9594\n",
      "Epoch 17/200\n",
      "6/6 [==============================] - 0s 1ms/sample - loss: 0.9012\n",
      "Epoch 18/200\n",
      "6/6 [==============================] - 0s 1ms/sample - loss: 0.8524\n",
      "Epoch 19/200\n",
      "6/6 [==============================] - 0s 1ms/sample - loss: 0.8110\n",
      "Epoch 20/200\n",
      "6/6 [==============================] - 0s 1ms/sample - loss: 0.7756\n",
      "Epoch 21/200\n",
      "6/6 [==============================] - 0s 1ms/sample - loss: 0.7449\n",
      "Epoch 22/200\n",
      "6/6 [==============================] - 0s 1ms/sample - loss: 0.7180\n",
      "Epoch 23/200\n",
      "6/6 [==============================] - 0s 1ms/sample - loss: 0.6941\n",
      "Epoch 24/200\n",
      "6/6 [==============================] - 0s 1ms/sample - loss: 0.6727\n",
      "Epoch 25/200\n",
      "6/6 [==============================] - 0s 1ms/sample - loss: 0.6532\n",
      "Epoch 26/200\n",
      "6/6 [==============================] - 0s 1ms/sample - loss: 0.6353\n",
      "Epoch 27/200\n",
      "6/6 [==============================] - 0s 1ms/sample - loss: 0.6188\n",
      "Epoch 28/200\n",
      "6/6 [==============================] - 0s 1ms/sample - loss: 0.6033\n",
      "Epoch 29/200\n",
      "6/6 [==============================] - 0s 1ms/sample - loss: 0.5888\n",
      "Epoch 30/200\n",
      "6/6 [==============================] - 0s 1ms/sample - loss: 0.5750\n",
      "Epoch 31/200\n",
      "6/6 [==============================] - 0s 1ms/sample - loss: 0.5618\n",
      "Epoch 32/200\n",
      "6/6 [==============================] - 0s 1ms/sample - loss: 0.5492\n",
      "Epoch 33/200\n",
      "6/6 [==============================] - 0s 1ms/sample - loss: 0.5371\n",
      "Epoch 34/200\n",
      "6/6 [==============================] - 0s 1ms/sample - loss: 0.5254\n",
      "Epoch 35/200\n",
      "6/6 [==============================] - 0s 2ms/sample - loss: 0.5141\n",
      "Epoch 36/200\n",
      "6/6 [==============================] - 0s 2ms/sample - loss: 0.5031\n",
      "Epoch 37/200\n",
      "6/6 [==============================] - 0s 1ms/sample - loss: 0.4925\n",
      "Epoch 38/200\n",
      "6/6 [==============================] - 0s 1ms/sample - loss: 0.4821\n",
      "Epoch 39/200\n",
      "6/6 [==============================] - 0s 1ms/sample - loss: 0.4720\n",
      "Epoch 40/200\n",
      "6/6 [==============================] - 0s 1ms/sample - loss: 0.4622\n",
      "Epoch 41/200\n",
      "6/6 [==============================] - 0s 2ms/sample - loss: 0.4526\n",
      "Epoch 42/200\n",
      "6/6 [==============================] - 0s 2ms/sample - loss: 0.4432\n",
      "Epoch 43/200\n",
      "6/6 [==============================] - 0s 2ms/sample - loss: 0.4340\n",
      "Epoch 44/200\n",
      "6/6 [==============================] - 0s 1ms/sample - loss: 0.4250\n",
      "Epoch 45/200\n",
      "6/6 [==============================] - 0s 2ms/sample - loss: 0.4162\n",
      "Epoch 46/200\n",
      "6/6 [==============================] - 0s 2ms/sample - loss: 0.4077\n",
      "Epoch 47/200\n",
      "6/6 [==============================] - 0s 1ms/sample - loss: 0.3992\n",
      "Epoch 48/200\n",
      "6/6 [==============================] - 0s 2ms/sample - loss: 0.3910\n",
      "Epoch 49/200\n",
      "6/6 [==============================] - 0s 1ms/sample - loss: 0.3830\n",
      "Epoch 50/200\n",
      "6/6 [==============================] - 0s 1ms/sample - loss: 0.3751\n",
      "Epoch 51/200\n",
      "6/6 [==============================] - 0s 2ms/sample - loss: 0.3674\n",
      "Epoch 52/200\n",
      "6/6 [==============================] - 0s 1ms/sample - loss: 0.3598\n",
      "Epoch 53/200\n",
      "6/6 [==============================] - 0s 2ms/sample - loss: 0.3524\n",
      "Epoch 54/200\n",
      "6/6 [==============================] - 0s 1ms/sample - loss: 0.3452\n",
      "Epoch 55/200\n",
      "6/6 [==============================] - 0s 2ms/sample - loss: 0.3381\n",
      "Epoch 56/200\n",
      "6/6 [==============================] - 0s 2ms/sample - loss: 0.3311\n",
      "Epoch 57/200\n",
      "6/6 [==============================] - 0s 1ms/sample - loss: 0.3243\n",
      "Epoch 58/200\n",
      "6/6 [==============================] - 0s 2ms/sample - loss: 0.3177\n",
      "Epoch 59/200\n",
      "6/6 [==============================] - 0s 1ms/sample - loss: 0.3111\n",
      "Epoch 60/200\n",
      "6/6 [==============================] - 0s 1ms/sample - loss: 0.3048\n",
      "Epoch 61/200\n",
      "6/6 [==============================] - 0s 1ms/sample - loss: 0.2985\n",
      "Epoch 62/200\n",
      "6/6 [==============================] - 0s 1ms/sample - loss: 0.2924\n",
      "Epoch 63/200\n",
      "6/6 [==============================] - 0s 1ms/sample - loss: 0.2864\n",
      "Epoch 64/200\n",
      "6/6 [==============================] - 0s 1ms/sample - loss: 0.2805\n",
      "Epoch 65/200\n",
      "6/6 [==============================] - 0s 1ms/sample - loss: 0.2747\n",
      "Epoch 66/200\n",
      "6/6 [==============================] - 0s 1ms/sample - loss: 0.2691\n",
      "Epoch 67/200\n",
      "6/6 [==============================] - 0s 1ms/sample - loss: 0.2635\n",
      "Epoch 68/200\n",
      "6/6 [==============================] - 0s 1ms/sample - loss: 0.2581\n",
      "Epoch 69/200\n",
      "6/6 [==============================] - 0s 1ms/sample - loss: 0.2528\n",
      "Epoch 70/200\n",
      "6/6 [==============================] - 0s 1ms/sample - loss: 0.2476\n",
      "Epoch 71/200\n",
      "6/6 [==============================] - 0s 1ms/sample - loss: 0.2425\n",
      "Epoch 72/200\n",
      "6/6 [==============================] - 0s 1ms/sample - loss: 0.2376\n",
      "Epoch 73/200\n",
      "6/6 [==============================] - 0s 1ms/sample - loss: 0.2327\n",
      "Epoch 74/200\n",
      "6/6 [==============================] - 0s 1ms/sample - loss: 0.2279\n",
      "Epoch 75/200\n",
      "6/6 [==============================] - 0s 1ms/sample - loss: 0.2232\n",
      "Epoch 76/200\n",
      "6/6 [==============================] - 0s 1ms/sample - loss: 0.2186\n",
      "Epoch 77/200\n",
      "6/6 [==============================] - 0s 1ms/sample - loss: 0.2141\n",
      "Epoch 78/200\n",
      "6/6 [==============================] - 0s 1ms/sample - loss: 0.2097\n",
      "Epoch 79/200\n",
      "6/6 [==============================] - 0s 1ms/sample - loss: 0.2054\n",
      "Epoch 80/200\n",
      "6/6 [==============================] - 0s 1ms/sample - loss: 0.2012\n",
      "Epoch 81/200\n",
      "6/6 [==============================] - 0s 1ms/sample - loss: 0.1971\n",
      "Epoch 82/200\n",
      "6/6 [==============================] - 0s 1ms/sample - loss: 0.1930\n",
      "Epoch 83/200\n",
      "6/6 [==============================] - 0s 1ms/sample - loss: 0.1891\n",
      "Epoch 84/200\n",
      "6/6 [==============================] - 0s 1ms/sample - loss: 0.1852\n",
      "Epoch 85/200\n",
      "6/6 [==============================] - 0s 1ms/sample - loss: 0.1814\n",
      "Epoch 86/200\n",
      "6/6 [==============================] - 0s 1ms/sample - loss: 0.1777\n",
      "Epoch 87/200\n",
      "6/6 [==============================] - 0s 1ms/sample - loss: 0.1740\n",
      "Epoch 88/200\n",
      "6/6 [==============================] - 0s 1ms/sample - loss: 0.1704\n",
      "Epoch 89/200\n",
      "6/6 [==============================] - 0s 1ms/sample - loss: 0.1669\n",
      "Epoch 90/200\n",
      "6/6 [==============================] - 0s 1ms/sample - loss: 0.1635\n",
      "Epoch 91/200\n",
      "6/6 [==============================] - 0s 1ms/sample - loss: 0.1601\n",
      "Epoch 92/200\n",
      "6/6 [==============================] - 0s 1ms/sample - loss: 0.1569\n",
      "Epoch 93/200\n",
      "6/6 [==============================] - 0s 2ms/sample - loss: 0.1536\n",
      "Epoch 94/200\n",
      "6/6 [==============================] - 0s 1ms/sample - loss: 0.1505\n",
      "Epoch 95/200\n",
      "6/6 [==============================] - 0s 2ms/sample - loss: 0.1474\n",
      "Epoch 96/200\n",
      "6/6 [==============================] - 0s 1ms/sample - loss: 0.1444\n",
      "Epoch 97/200\n",
      "6/6 [==============================] - 0s 2ms/sample - loss: 0.1414\n",
      "Epoch 98/200\n",
      "6/6 [==============================] - 0s 2ms/sample - loss: 0.1385\n",
      "Epoch 99/200\n",
      "6/6 [==============================] - 0s 2ms/sample - loss: 0.1356\n",
      "Epoch 100/200\n",
      "6/6 [==============================] - 0s 1ms/sample - loss: 0.1329\n",
      "Epoch 101/200\n",
      "6/6 [==============================] - 0s 2ms/sample - loss: 0.1301\n"
     ]
    },
    {
     "name": "stdout",
     "output_type": "stream",
     "text": [
      "Epoch 102/200\n",
      "6/6 [==============================] - 0s 1ms/sample - loss: 0.1275\n",
      "Epoch 103/200\n",
      "6/6 [==============================] - 0s 1ms/sample - loss: 0.1248\n",
      "Epoch 104/200\n",
      "6/6 [==============================] - 0s 1ms/sample - loss: 0.1223\n",
      "Epoch 105/200\n",
      "6/6 [==============================] - 0s 1ms/sample - loss: 0.1198\n",
      "Epoch 106/200\n",
      "6/6 [==============================] - 0s 1ms/sample - loss: 0.1173\n",
      "Epoch 107/200\n",
      "6/6 [==============================] - 0s 1ms/sample - loss: 0.1149\n",
      "Epoch 108/200\n",
      "6/6 [==============================] - 0s 1ms/sample - loss: 0.1125\n",
      "Epoch 109/200\n",
      "6/6 [==============================] - 0s 1ms/sample - loss: 0.1102\n",
      "Epoch 110/200\n",
      "6/6 [==============================] - 0s 1ms/sample - loss: 0.1080\n",
      "Epoch 111/200\n",
      "6/6 [==============================] - 0s 1ms/sample - loss: 0.1057\n",
      "Epoch 112/200\n",
      "6/6 [==============================] - 0s 1ms/sample - loss: 0.1036\n",
      "Epoch 113/200\n",
      "6/6 [==============================] - 0s 1ms/sample - loss: 0.1014\n",
      "Epoch 114/200\n",
      "6/6 [==============================] - 0s 1ms/sample - loss: 0.0994\n",
      "Epoch 115/200\n",
      "6/6 [==============================] - 0s 1ms/sample - loss: 0.0973\n",
      "Epoch 116/200\n",
      "6/6 [==============================] - 0s 1ms/sample - loss: 0.0953\n",
      "Epoch 117/200\n",
      "6/6 [==============================] - 0s 2ms/sample - loss: 0.0934\n",
      "Epoch 118/200\n",
      "6/6 [==============================] - 0s 1ms/sample - loss: 0.0914\n",
      "Epoch 119/200\n",
      "6/6 [==============================] - 0s 1ms/sample - loss: 0.0896\n",
      "Epoch 120/200\n",
      "6/6 [==============================] - 0s 1ms/sample - loss: 0.0877\n",
      "Epoch 121/200\n",
      "6/6 [==============================] - 0s 1ms/sample - loss: 0.0859\n",
      "Epoch 122/200\n",
      "6/6 [==============================] - 0s 1ms/sample - loss: 0.0842\n",
      "Epoch 123/200\n",
      "6/6 [==============================] - 0s 1ms/sample - loss: 0.0824\n",
      "Epoch 124/200\n",
      "6/6 [==============================] - 0s 1ms/sample - loss: 0.0807\n",
      "Epoch 125/200\n",
      "6/6 [==============================] - 0s 1ms/sample - loss: 0.0791\n",
      "Epoch 126/200\n",
      "6/6 [==============================] - 0s 1ms/sample - loss: 0.0775\n",
      "Epoch 127/200\n",
      "6/6 [==============================] - 0s 1ms/sample - loss: 0.0759\n",
      "Epoch 128/200\n",
      "6/6 [==============================] - 0s 1ms/sample - loss: 0.0743\n",
      "Epoch 129/200\n",
      "6/6 [==============================] - 0s 1ms/sample - loss: 0.0728\n",
      "Epoch 130/200\n",
      "6/6 [==============================] - 0s 1ms/sample - loss: 0.0713\n",
      "Epoch 131/200\n",
      "6/6 [==============================] - 0s 1ms/sample - loss: 0.0698\n",
      "Epoch 132/200\n",
      "6/6 [==============================] - 0s 2ms/sample - loss: 0.0684\n",
      "Epoch 133/200\n",
      "6/6 [==============================] - 0s 2ms/sample - loss: 0.0670\n",
      "Epoch 134/200\n",
      "6/6 [==============================] - 0s 1ms/sample - loss: 0.0656\n",
      "Epoch 135/200\n",
      "6/6 [==============================] - 0s 1ms/sample - loss: 0.0643\n",
      "Epoch 136/200\n",
      "6/6 [==============================] - 0s 1ms/sample - loss: 0.0629\n",
      "Epoch 137/200\n",
      "6/6 [==============================] - 0s 1ms/sample - loss: 0.0616\n",
      "Epoch 138/200\n",
      "6/6 [==============================] - 0s 1ms/sample - loss: 0.0604\n",
      "Epoch 139/200\n",
      "6/6 [==============================] - 0s 1ms/sample - loss: 0.0591\n",
      "Epoch 140/200\n",
      "6/6 [==============================] - 0s 1ms/sample - loss: 0.0579\n",
      "Epoch 141/200\n",
      "6/6 [==============================] - 0s 1ms/sample - loss: 0.0567\n",
      "Epoch 142/200\n",
      "6/6 [==============================] - 0s 1ms/sample - loss: 0.0556\n",
      "Epoch 143/200\n",
      "6/6 [==============================] - 0s 1ms/sample - loss: 0.0544\n",
      "Epoch 144/200\n",
      "6/6 [==============================] - 0s 1ms/sample - loss: 0.0533\n",
      "Epoch 145/200\n",
      "6/6 [==============================] - 0s 1ms/sample - loss: 0.0522\n",
      "Epoch 146/200\n",
      "6/6 [==============================] - 0s 1ms/sample - loss: 0.0511\n",
      "Epoch 147/200\n",
      "6/6 [==============================] - 0s 1ms/sample - loss: 0.0501\n",
      "Epoch 148/200\n",
      "6/6 [==============================] - 0s 1ms/sample - loss: 0.0491\n",
      "Epoch 149/200\n",
      "6/6 [==============================] - 0s 1ms/sample - loss: 0.0481\n",
      "Epoch 150/200\n",
      "6/6 [==============================] - 0s 1ms/sample - loss: 0.0471\n",
      "Epoch 151/200\n",
      "6/6 [==============================] - 0s 1ms/sample - loss: 0.0461\n",
      "Epoch 152/200\n",
      "6/6 [==============================] - 0s 1ms/sample - loss: 0.0452\n",
      "Epoch 153/200\n",
      "6/6 [==============================] - 0s 1ms/sample - loss: 0.0442\n",
      "Epoch 154/200\n",
      "6/6 [==============================] - 0s 1ms/sample - loss: 0.0433\n",
      "Epoch 155/200\n",
      "6/6 [==============================] - 0s 1ms/sample - loss: 0.0424\n",
      "Epoch 156/200\n",
      "6/6 [==============================] - 0s 1ms/sample - loss: 0.0416\n",
      "Epoch 157/200\n",
      "6/6 [==============================] - 0s 1ms/sample - loss: 0.0407\n",
      "Epoch 158/200\n",
      "6/6 [==============================] - 0s 1ms/sample - loss: 0.0399\n",
      "Epoch 159/200\n",
      "6/6 [==============================] - 0s 2ms/sample - loss: 0.0390\n",
      "Epoch 160/200\n",
      "6/6 [==============================] - 0s 2ms/sample - loss: 0.0382\n",
      "Epoch 161/200\n",
      "6/6 [==============================] - 0s 1ms/sample - loss: 0.0375\n",
      "Epoch 162/200\n",
      "6/6 [==============================] - 0s 1ms/sample - loss: 0.0367\n",
      "Epoch 163/200\n",
      "6/6 [==============================] - 0s 1ms/sample - loss: 0.0359\n",
      "Epoch 164/200\n",
      "6/6 [==============================] - 0s 1ms/sample - loss: 0.0352\n",
      "Epoch 165/200\n",
      "6/6 [==============================] - 0s 1ms/sample - loss: 0.0345\n",
      "Epoch 166/200\n",
      "6/6 [==============================] - 0s 1ms/sample - loss: 0.0338\n",
      "Epoch 167/200\n",
      "6/6 [==============================] - 0s 1ms/sample - loss: 0.0331\n",
      "Epoch 168/200\n",
      "6/6 [==============================] - 0s 1ms/sample - loss: 0.0324\n",
      "Epoch 169/200\n",
      "6/6 [==============================] - 0s 1ms/sample - loss: 0.0317\n",
      "Epoch 170/200\n",
      "6/6 [==============================] - 0s 1ms/sample - loss: 0.0311\n",
      "Epoch 171/200\n",
      "6/6 [==============================] - 0s 1ms/sample - loss: 0.0304\n",
      "Epoch 172/200\n",
      "6/6 [==============================] - 0s 1ms/sample - loss: 0.0298\n",
      "Epoch 173/200\n",
      "6/6 [==============================] - 0s 1ms/sample - loss: 0.0292\n",
      "Epoch 174/200\n",
      "6/6 [==============================] - 0s 1ms/sample - loss: 0.0286\n",
      "Epoch 175/200\n",
      "6/6 [==============================] - 0s 1ms/sample - loss: 0.0280\n",
      "Epoch 176/200\n",
      "6/6 [==============================] - 0s 1ms/sample - loss: 0.0274\n",
      "Epoch 177/200\n",
      "6/6 [==============================] - 0s 1ms/sample - loss: 0.0269\n",
      "Epoch 178/200\n",
      "6/6 [==============================] - 0s 1ms/sample - loss: 0.0263\n",
      "Epoch 179/200\n",
      "6/6 [==============================] - 0s 1ms/sample - loss: 0.0258\n",
      "Epoch 180/200\n",
      "6/6 [==============================] - 0s 1ms/sample - loss: 0.0253\n",
      "Epoch 181/200\n",
      "6/6 [==============================] - 0s 1ms/sample - loss: 0.0247\n",
      "Epoch 182/200\n",
      "6/6 [==============================] - 0s 1ms/sample - loss: 0.0242\n",
      "Epoch 183/200\n",
      "6/6 [==============================] - 0s 1ms/sample - loss: 0.0237\n",
      "Epoch 184/200\n",
      "6/6 [==============================] - 0s 1ms/sample - loss: 0.0232\n",
      "Epoch 185/200\n",
      "6/6 [==============================] - 0s 1ms/sample - loss: 0.0228\n",
      "Epoch 186/200\n",
      "6/6 [==============================] - 0s 1ms/sample - loss: 0.0223\n",
      "Epoch 187/200\n",
      "6/6 [==============================] - 0s 1ms/sample - loss: 0.0218\n",
      "Epoch 188/200\n",
      "6/6 [==============================] - 0s 1ms/sample - loss: 0.0214\n",
      "Epoch 189/200\n",
      "6/6 [==============================] - 0s 1ms/sample - loss: 0.0210\n",
      "Epoch 190/200\n",
      "6/6 [==============================] - 0s 1ms/sample - loss: 0.0205\n",
      "Epoch 191/200\n",
      "6/6 [==============================] - 0s 1ms/sample - loss: 0.0201\n",
      "Epoch 192/200\n",
      "6/6 [==============================] - 0s 1ms/sample - loss: 0.0197\n",
      "Epoch 193/200\n",
      "6/6 [==============================] - 0s 1ms/sample - loss: 0.0193\n",
      "Epoch 194/200\n",
      "6/6 [==============================] - 0s 1ms/sample - loss: 0.0189\n",
      "Epoch 195/200\n",
      "6/6 [==============================] - 0s 1ms/sample - loss: 0.0185\n",
      "Epoch 196/200\n",
      "6/6 [==============================] - 0s 1ms/sample - loss: 0.0181\n",
      "Epoch 197/200\n",
      "6/6 [==============================] - 0s 1ms/sample - loss: 0.0177\n",
      "Epoch 198/200\n",
      "6/6 [==============================] - 0s 1ms/sample - loss: 0.0174\n",
      "Epoch 199/200\n",
      "6/6 [==============================] - 0s 1ms/sample - loss: 0.0170\n",
      "Epoch 200/200\n",
      "6/6 [==============================] - 0s 1ms/sample - loss: 0.0167\n"
     ]
    },
    {
     "data": {
      "text/plain": [
       "<tensorflow.python.keras.callbacks.History at 0x7f54f82cba58>"
      ]
     },
     "execution_count": 2,
     "metadata": {},
     "output_type": "execute_result"
    }
   ],
   "source": [
    "# Create a simple Keras model.\n",
    "x = [-1, 0, 1, 2, 3, 4]\n",
    "y = [-3, -1, 1, 3, 5, 7]\n",
    "\n",
    "model = tf.keras.models.Sequential([\n",
    "        tf.keras.layers.Dense(units=1, input_shape=[1])\n",
    "])\n",
    "\n",
    "model.compile(optimizer='sgd',\n",
    "              loss='mean_squared_error')\n",
    "\n",
    "model.fit(x, y, epochs=200)"
   ]
  },
  {
   "cell_type": "markdown",
   "metadata": {
    "colab_type": "text",
    "id": "EjsB-QICGt6L"
   },
   "source": [
    "## Generate a SavedModel"
   ]
  },
  {
   "cell_type": "code",
   "execution_count": 3,
   "metadata": {
    "colab": {},
    "colab_type": "code",
    "id": "a9xcbK7QHOfm"
   },
   "outputs": [
    {
     "name": "stdout",
     "output_type": "stream",
     "text": [
      "WARNING:tensorflow:From /home/pedro/anaconda3/envs/tensorflow-specialization/lib/python3.6/site-packages/tensorflow_core/python/ops/resource_variable_ops.py:1781: calling BaseResourceVariable.__init__ (from tensorflow.python.ops.resource_variable_ops) with constraint is deprecated and will be removed in a future version.\n",
      "Instructions for updating:\n",
      "If using Keras pass *_constraint arguments to layers.\n",
      "INFO:tensorflow:Assets written to: saved_model/linear_regression/assets\n"
     ]
    }
   ],
   "source": [
    "export_dir = 'saved_model/linear_regression'\n",
    "tf.saved_model.save(model, export_dir)"
   ]
  },
  {
   "cell_type": "markdown",
   "metadata": {
    "colab_type": "text",
    "id": "RRtsNwkiGxcO"
   },
   "source": [
    "## Convert the SavedModel to TFLite"
   ]
  },
  {
   "cell_type": "code",
   "execution_count": 4,
   "metadata": {
    "colab": {},
    "colab_type": "code",
    "id": "TtM8yKTVTpD3"
   },
   "outputs": [],
   "source": [
    "# Convert the model.\n",
    "converter = tf.lite.TFLiteConverter.from_saved_model(export_dir)\n",
    "tflite_model = converter.convert()"
   ]
  },
  {
   "cell_type": "code",
   "execution_count": 6,
   "metadata": {
    "colab": {},
    "colab_type": "code",
    "id": "4idYulcNHTdO"
   },
   "outputs": [
    {
     "data": {
      "text/plain": [
       "780"
      ]
     },
     "execution_count": 6,
     "metadata": {},
     "output_type": "execute_result"
    }
   ],
   "source": [
    "tflite_model_file = pathlib.Path('linear_regression_model.tflite')\n",
    "tflite_model_file.write_bytes(tflite_model)"
   ]
  },
  {
   "cell_type": "markdown",
   "metadata": {
    "colab_type": "text",
    "id": "HgGvp2yBG25Q"
   },
   "source": [
    "## Initialize the TFLite Interpreter To Try It Out"
   ]
  },
  {
   "cell_type": "code",
   "execution_count": 14,
   "metadata": {
    "colab": {},
    "colab_type": "code",
    "id": "DOt94wIWF8m7"
   },
   "outputs": [],
   "source": [
    "# Load TFLite model and allocate tensors.\n",
    "interpreter = tf.lite.Interpreter(model_content=tflite_model)\n",
    "interpreter.allocate_tensors()\n",
    "\n",
    "# Get input and output tensors.\n",
    "input_details = interpreter.get_input_details()\n",
    "output_details = interpreter.get_output_details()"
   ]
  },
  {
   "cell_type": "code",
   "execution_count": 19,
   "metadata": {},
   "outputs": [
    {
     "data": {
      "text/plain": [
       "[{'name': 'dense_input',\n",
       "  'index': 3,\n",
       "  'shape': array([1, 1], dtype=int32),\n",
       "  'dtype': numpy.float32,\n",
       "  'quantization': (0.0, 0)}]"
      ]
     },
     "execution_count": 19,
     "metadata": {},
     "output_type": "execute_result"
    }
   ],
   "source": [
    "input_details"
   ]
  },
  {
   "cell_type": "code",
   "execution_count": 20,
   "metadata": {},
   "outputs": [
    {
     "data": {
      "text/plain": [
       "[{'name': 'Identity',\n",
       "  'index': 0,\n",
       "  'shape': array([1, 1], dtype=int32),\n",
       "  'dtype': numpy.float32,\n",
       "  'quantization': (0.0, 0)}]"
      ]
     },
     "execution_count": 20,
     "metadata": {},
     "output_type": "execute_result"
    }
   ],
   "source": [
    "output_details"
   ]
  },
  {
   "cell_type": "code",
   "execution_count": 21,
   "metadata": {
    "colab": {},
    "colab_type": "code",
    "id": "JGYkEK08F8qK"
   },
   "outputs": [],
   "source": [
    "# Test the TensorFlow Lite model on random input data.\n",
    "input_shape = input_details[0]['shape']\n",
    "inputs, outputs = [], []\n",
    "for _ in range(100):\n",
    "    input_data = np.array(np.random.random_sample(input_shape), dtype=np.float32)\n",
    "    interpreter.set_tensor(input_details[0]['index'], input_data)\n",
    "    \n",
    "    interpreter.invoke()\n",
    "    tflite_results = interpreter.get_tensor(output_details[0]['index'])\n",
    "    output_data = np.array(tflite_results)\n",
    "    \n",
    "    inputs.append(input_data[0][0])\n",
    "    outputs.append(output_data[0][0])"
   ]
  },
  {
   "cell_type": "markdown",
   "metadata": {
    "colab_type": "text",
    "id": "t1gQGH1KWAgW"
   },
   "source": [
    "## Visualize the Model"
   ]
  },
  {
   "cell_type": "code",
   "execution_count": 22,
   "metadata": {
    "colab": {},
    "colab_type": "code",
    "id": "ccvQ1mEJVrqo"
   },
   "outputs": [
    {
     "data": {
      "image/png": "[encoded data removed]",
      "text/plain": [
       "<Figure size 432x288 with 1 Axes>"
      ]
     },
     "metadata": {
      "needs_background": "light"
     },
     "output_type": "display_data"
    }
   ],
   "source": [
    "%matplotlib inline\n",
    "\n",
    "plt.plot(inputs, outputs, 'r')\n",
    "plt.show()"
   ]
  }
 ],
 "metadata": {
  "accelerator": "GPU",
  "colab": {
   "collapsed_sections": [],
   "name": "TFLite_Week1_Linear_Regression.ipynb",
   "private_outputs": true,
   "provenance": [],
   "toc_visible": true
  },
  "kernelspec": {
   "display_name": "Python 3",
   "language": "python",
   "name": "python3"
  },
  "language_info": {
   "codemirror_mode": {
    "name": "ipython",
    "version": 3
   },
   "file_extension": ".py",
   "mimetype": "text/x-python",
   "name": "python",
   "nbconvert_exporter": "python",
   "pygments_lexer": "ipython3",
   "version": "3.6.9"
  }
 },
 "nbformat": 4,
 "nbformat_minor": 1
}
