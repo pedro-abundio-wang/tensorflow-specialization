{
 "cells": [
  {
   "cell_type": "code",
   "execution_count": null,
   "metadata": {
    "colab": {},
    "colab_type": "code",
    "id": "zX4Kg8DUTKWO"
   },
   "outputs": [],
   "source": [
    "#@title Licensed under the Apache License, Version 2.0 (the \"License\");\n",
    "# you may not use this file except in compliance with the License.\n",
    "# You may obtain a copy of the License at\n",
    "#\n",
    "# https://www.apache.org/licenses/LICENSE-2.0\n",
    "#\n",
    "# Unless required by applicable law or agreed to in writing, software\n",
    "# distributed under the License is distributed on an \"AS IS\" BASIS,\n",
    "# WITHOUT WARRANTIES OR CONDITIONS OF ANY KIND, either express or implied.\n",
    "# See the License for the specific language governing permissions and\n",
    "# limitations under the License."
   ]
  },
  {
   "cell_type": "markdown",
   "metadata": {
    "colab_type": "text",
    "id": "vidayERjaO5q"
   },
   "source": [
    "# Setup"
   ]
  },
  {
   "cell_type": "code",
   "execution_count": null,
   "metadata": {
    "colab": {},
    "colab_type": "code",
    "id": "gqWabzlJ63nL"
   },
   "outputs": [],
   "source": [
    "import numpy as np\n",
    "import matplotlib.pyplot as plt\n",
    "import tensorflow as tf\n",
    "from tensorflow import keras"
   ]
  },
  {
   "cell_type": "code",
   "execution_count": null,
   "metadata": {
    "colab": {},
    "colab_type": "code",
    "id": "sJwA96JU00pW"
   },
   "outputs": [],
   "source": [
    "def plot_series(time, series, format=\"-\", start=0, end=None, label=None):\n",
    "    plt.plot(time[start:end], series[start:end], format, label=label)\n",
    "    plt.xlabel(\"Time\")\n",
    "    plt.ylabel(\"Value\")\n",
    "    if label:\n",
    "        plt.legend(fontsize=14)\n",
    "    plt.grid(True)"
   ]
  },
  {
   "cell_type": "markdown",
   "metadata": {
    "colab_type": "text",
    "id": "yVo6CcpRaW7u"
   },
   "source": [
    "# Trend and Seasonality"
   ]
  },
  {
   "cell_type": "code",
   "execution_count": null,
   "metadata": {
    "colab": {},
    "colab_type": "code",
    "id": "t30Ts2KjiOIY"
   },
   "outputs": [],
   "source": [
    "def trend(time, slope=0):\n",
    "    return slope * time"
   ]
  },
  {
   "cell_type": "markdown",
   "metadata": {
    "colab_type": "text",
    "id": "iJjc3G1Maefn"
   },
   "source": [
    "Let's create a time series that just trends upward:"
   ]
  },
  {
   "cell_type": "code",
   "execution_count": null,
   "metadata": {
    "colab": {},
    "colab_type": "code",
    "id": "BLt-pLiZ0nfB"
   },
   "outputs": [],
   "source": [
    "time = np.arange(4 * 365 + 1)\n",
    "baseline = 10\n",
    "series = trend(time, 0.1)\n",
    "\n",
    "plt.figure(figsize=(10, 6))\n",
    "plot_series(time, series)\n",
    "plt.show()"
   ]
  },
  {
   "cell_type": "markdown",
   "metadata": {
    "colab_type": "text",
    "id": "WKD4nh9sauBf"
   },
   "source": [
    "Now let's generate a time series with a seasonal pattern:"
   ]
  },
  {
   "cell_type": "code",
   "execution_count": null,
   "metadata": {
    "colab": {},
    "colab_type": "code",
    "id": "89gdEnPY1Niy"
   },
   "outputs": [],
   "source": [
    "def seasonal_pattern(season_time):\n",
    "    \"\"\"Just an arbitrary pattern, you can change it if you wish\"\"\"\n",
    "    return np.where(season_time < 0.4,\n",
    "                    np.cos(season_time * 2 * np.pi),\n",
    "                    1 / np.exp(3 * season_time))\n",
    "\n",
    "def seasonality(time, period, amplitude=1, phase=0):\n",
    "    \"\"\"Repeats the same pattern at each period\"\"\"\n",
    "    season_time = ((time + phase) % period) / period\n",
    "    return amplitude * seasonal_pattern(season_time)"
   ]
  },
  {
   "cell_type": "code",
   "execution_count": null,
   "metadata": {
    "colab": {},
    "colab_type": "code",
    "id": "7kaNezUk1S9l"
   },
   "outputs": [],
   "source": [
    "baseline = 10\n",
    "amplitude = 40\n",
    "series = seasonality(time, period=365, amplitude=amplitude)\n",
    "\n",
    "plt.figure(figsize=(10, 6))\n",
    "plot_series(time, series)\n",
    "plt.show()"
   ]
  },
  {
   "cell_type": "markdown",
   "metadata": {
    "colab_type": "text",
    "id": "-Vo433h0bDLD"
   },
   "source": [
    "Now let's create a time series with both trend and seasonality:"
   ]
  },
  {
   "cell_type": "code",
   "execution_count": null,
   "metadata": {
    "colab": {},
    "colab_type": "code",
    "id": "AyqFdaIN1oy5"
   },
   "outputs": [],
   "source": [
    "slope = 0.05\n",
    "series = baseline + trend(time, slope) + seasonality(time, period=365, amplitude=amplitude)\n",
    "\n",
    "plt.figure(figsize=(10, 6))\n",
    "plot_series(time, series)\n",
    "plt.show()"
   ]
  },
  {
   "cell_type": "markdown",
   "metadata": {
    "colab_type": "text",
    "id": "YVdJ2jNN8OHk"
   },
   "source": [
    "# Noise"
   ]
  },
  {
   "cell_type": "markdown",
   "metadata": {
    "colab_type": "text",
    "id": "V4taP424sces"
   },
   "source": [
    "In practice few real-life time series have such a smooth signal. They usually have some noise, and the signal-to-noise ratio can sometimes be very low. Let's generate some white noise:"
   ]
  },
  {
   "cell_type": "code",
   "execution_count": null,
   "metadata": {
    "colab": {},
    "colab_type": "code",
    "id": "3kD3_zjVscBH"
   },
   "outputs": [],
   "source": [
    "def white_noise(time, noise_level=1, seed=None):\n",
    "    rnd = np.random.RandomState(seed)\n",
    "    return rnd.randn(len(time)) * noise_level"
   ]
  },
  {
   "cell_type": "code",
   "execution_count": null,
   "metadata": {
    "colab": {},
    "colab_type": "code",
    "id": "aLvBwrKrtDzo"
   },
   "outputs": [],
   "source": [
    "noise_level = 5\n",
    "noise = white_noise(time, noise_level, seed=42)\n",
    "\n",
    "plt.figure(figsize=(10, 6))\n",
    "plot_series(time, noise)\n",
    "plt.show()"
   ]
  },
  {
   "cell_type": "markdown",
   "metadata": {
    "colab_type": "text",
    "id": "GHa6gicgbL74"
   },
   "source": [
    "Now let's add this white noise to the time series:"
   ]
  },
  {
   "cell_type": "code",
   "execution_count": null,
   "metadata": {
    "colab": {},
    "colab_type": "code",
    "id": "2bRDx8K816N9"
   },
   "outputs": [],
   "source": [
    "series += noise\n",
    "\n",
    "plt.figure(figsize=(10, 6))\n",
    "plot_series(time, series)\n",
    "plt.show()"
   ]
  },
  {
   "cell_type": "markdown",
   "metadata": {},
   "source": [
    "# Auto Correlation"
   ]
  },
  {
   "cell_type": "code",
   "execution_count": null,
   "metadata": {
    "colab": {},
    "colab_type": "code",
    "id": "GICxGswL2aqK"
   },
   "outputs": [],
   "source": [
    "def autocorrelation(time, amplitude, seed=None):\n",
    "    rnd = np.random.RandomState(seed)\n",
    "    φ1 = 0.5\n",
    "    φ2 = -0.1\n",
    "    ar = rnd.randn(len(time) + 50)\n",
    "    ar[:50] = 100\n",
    "    for step in range(50, len(time) + 50):\n",
    "        ar[step] += φ1 * ar[step - 50]\n",
    "        ar[step] += φ2 * ar[step - 33]\n",
    "    return ar[50:] * amplitude"
   ]
  },
  {
   "cell_type": "code",
   "execution_count": null,
   "metadata": {},
   "outputs": [],
   "source": [
    "series = autocorrelation(time, 10, seed=42)\n",
    "plot_series(time[:200], series[:200])\n",
    "plt.show()"
   ]
  },
  {
   "cell_type": "code",
   "execution_count": null,
   "metadata": {
    "colab": {},
    "colab_type": "code",
    "id": "mCaWIWoDGVCL"
   },
   "outputs": [],
   "source": [
    "def autocorrelation(time, amplitude, seed=None):\n",
    "    rnd = np.random.RandomState(seed)\n",
    "    φ = 0.8\n",
    "    ar = rnd.randn(len(time) + 1)\n",
    "    for step in range(1, len(time) + 1):\n",
    "        ar[step] += φ * ar[step - 1]\n",
    "    return ar[1:] * amplitude"
   ]
  },
  {
   "cell_type": "code",
   "execution_count": null,
   "metadata": {
    "colab": {
     "base_uri": "https://localhost:8080/",
     "height": 283
    },
    "colab_type": "code",
    "id": "MVM204K66bnC",
    "outputId": "7c6884b9-87ce-43a8-f0d1-7122a944f148"
   },
   "outputs": [],
   "source": [
    "series = autocorrelation(time, 10, seed=42)\n",
    "plot_series(time[:200], series[:200])\n",
    "plt.show()"
   ]
  },
  {
   "cell_type": "code",
   "execution_count": null,
   "metadata": {
    "colab": {
     "base_uri": "https://localhost:8080/",
     "height": 283
    },
    "colab_type": "code",
    "id": "9MZ2sCmM8XPU",
    "outputId": "2f97dc15-0252-46dd-82b5-90837d4d2db6"
   },
   "outputs": [],
   "source": [
    "series = autocorrelation(time, 10, seed=42) + trend(time, 2)\n",
    "plot_series(time[:200], series[:200])\n",
    "plt.show()"
   ]
  },
  {
   "cell_type": "code",
   "execution_count": null,
   "metadata": {
    "colab": {
     "base_uri": "https://localhost:8080/",
     "height": 283
    },
    "colab_type": "code",
    "id": "hqx5et9Bzp5e",
    "outputId": "f705dc4d-5e6a-4b0e-83df-94e112414259"
   },
   "outputs": [],
   "source": [
    "series = autocorrelation(time, 10, seed=42) + seasonality(time, period=50, amplitude=150) + trend(time, 2)\n",
    "plot_series(time[:200], series[:200])\n",
    "plt.show()"
   ]
  },
  {
   "cell_type": "code",
   "execution_count": null,
   "metadata": {
    "colab": {
     "base_uri": "https://localhost:8080/",
     "height": 283
    },
    "colab_type": "code",
    "id": "qb5echI7rHqA",
    "outputId": "0695d1b3-2947-4d44-d1c0-2d2cf997e9d5"
   },
   "outputs": [],
   "source": [
    "series = autocorrelation(time, 10, seed=42) + seasonality(time, period=50, amplitude=150) + trend(time, 2)\n",
    "series2 = autocorrelation(time, 5, seed=42) + seasonality(time, period=50, amplitude=2) + trend(time, -1) + 550\n",
    "series[200:] = series2[200:]\n",
    "plot_series(time[:300], series[:300])\n",
    "plt.show()"
   ]
  },
  {
   "cell_type": "markdown",
   "metadata": {},
   "source": [
    "# Impulse"
   ]
  },
  {
   "cell_type": "code",
   "execution_count": null,
   "metadata": {
    "colab": {},
    "colab_type": "code",
    "id": "iBfpCbu6jsaB"
   },
   "outputs": [],
   "source": [
    "def impulses(time, num_impulses, amplitude=1, seed=None):\n",
    "    rnd = np.random.RandomState(seed)\n",
    "    impulse_indices = rnd.randint(len(time), size=10)\n",
    "    series = np.zeros(len(time))\n",
    "    for index in impulse_indices:\n",
    "        series[index] += rnd.rand() * amplitude\n",
    "    return series"
   ]
  },
  {
   "cell_type": "code",
   "execution_count": null,
   "metadata": {
    "colab": {
     "base_uri": "https://localhost:8080/",
     "height": 283
    },
    "colab_type": "code",
    "id": "BJ1kXWNLg_BD",
    "outputId": "51dba178-72ff-48fc-d280-00ee7c2423fd"
   },
   "outputs": [],
   "source": [
    "series = impulses(time, 10, seed=42)\n",
    "plot_series(time, series)\n",
    "plt.show()"
   ]
  },
  {
   "cell_type": "code",
   "execution_count": null,
   "metadata": {
    "colab": {},
    "colab_type": "code",
    "id": "uvMAqSatkcyX"
   },
   "outputs": [],
   "source": [
    "def autocorrelation(source, φs):\n",
    "    ar = source.copy()\n",
    "    max_lag = len(φs)\n",
    "    for step, value in enumerate(source):\n",
    "        for lag, φ in φs.items():\n",
    "            if step - lag > 0:\n",
    "                ar[step] += φ * ar[step - lag]\n",
    "    return ar"
   ]
  },
  {
   "cell_type": "code",
   "execution_count": null,
   "metadata": {
    "colab": {
     "base_uri": "https://localhost:8080/",
     "height": 283
    },
    "colab_type": "code",
    "id": "iUv8l8nchJRZ",
    "outputId": "97676db8-78cc-4f13-dd5c-3e38b569164e"
   },
   "outputs": [],
   "source": [
    "signal = impulses(time, 10, seed=42)\n",
    "series = autocorrelation(signal, {1: 0.99})\n",
    "plot_series(time, series)\n",
    "plt.plot(time, signal, \"k-\")\n",
    "plt.show()"
   ]
  },
  {
   "cell_type": "code",
   "execution_count": null,
   "metadata": {
    "colab": {
     "base_uri": "https://localhost:8080/",
     "height": 283
    },
    "colab_type": "code",
    "id": "5_lx-AlWhT5v",
    "outputId": "9d359a3d-a00b-432d-b4be-d565d976febb"
   },
   "outputs": [],
   "source": [
    "signal = impulses(time, 10, seed=42)\n",
    "series = autocorrelation(signal, {1: 0.70, 50: 0.2})\n",
    "plot_series(time, series)\n",
    "plt.plot(time, signal, \"k-\")\n",
    "plt.show()"
   ]
  },
  {
   "cell_type": "code",
   "execution_count": null,
   "metadata": {
    "colab": {
     "base_uri": "https://localhost:8080/",
     "height": 283
    },
    "colab_type": "code",
    "id": "nWQ9fvFAOGRB",
    "outputId": "eddd8f75-dc13-425c-d89c-2f7b93d3bb17"
   },
   "outputs": [],
   "source": [
    "series_diff1 = series[1:] - series[:-1]\n",
    "plot_series(time[1:], series_diff1)"
   ]
  },
  {
   "cell_type": "code",
   "execution_count": null,
   "metadata": {},
   "outputs": [],
   "source": [
    "from pandas.plotting import autocorrelation_plot\n",
    "autocorrelation_plot(series)"
   ]
  }
 ],
 "metadata": {
  "accelerator": "GPU",
  "colab": {
   "collapsed_sections": [],
   "name": "S+P_Week_1_Lesson_2.ipynb",
   "provenance": [],
   "toc_visible": true,
   "version": "0.3.2"
  },
  "kernelspec": {
   "display_name": "Python 3",
   "language": "python",
   "name": "python3"
  },
  "language_info": {
   "codemirror_mode": {
    "name": "ipython",
    "version": 3
   },
   "file_extension": ".py",
   "mimetype": "text/x-python",
   "name": "python",
   "nbconvert_exporter": "python",
   "pygments_lexer": "ipython3",
   "version": "3.6.9"
  }
 },
 "nbformat": 4,
 "nbformat_minor": 1
}
